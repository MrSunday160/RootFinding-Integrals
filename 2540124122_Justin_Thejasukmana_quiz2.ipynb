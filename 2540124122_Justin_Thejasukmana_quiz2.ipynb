{
 "cells": [
  {
   "cell_type": "markdown",
   "metadata": {},
   "source": [
    "newton rhapson"
   ]
  },
  {
   "cell_type": "code",
   "execution_count": 64,
   "metadata": {},
   "outputs": [],
   "source": [
    "import numpy as np"
   ]
  },
  {
   "cell_type": "code",
   "execution_count": 65,
   "metadata": {},
   "outputs": [],
   "source": [
    "def f(x):\n",
    "    return((-3)*x**7 + 1000)\n",
    "\n",
    "def g(x):\n",
    "    return((-21)* x**6)"
   ]
  },
  {
   "cell_type": "code",
   "execution_count": 66,
   "metadata": {},
   "outputs": [
    {
     "name": "stdout",
     "output_type": "stream",
     "text": [
      "iteration of 1. new root = 85.714286\n",
      "iteration of 2. new root = 73.469388\n",
      "iteration of 3. new root = 62.973761\n",
      "iteration of 4. new root = 53.977509\n",
      "iteration of 5. new root = 46.266437\n",
      "iteration of 6. new root = 39.656946\n",
      "iteration of 7. new root = 33.991668\n",
      "iteration of 8. new root = 29.135715\n",
      "iteration of 9. new root = 24.97347\n",
      "iteration of 10. new root = 21.405832\n",
      "iteration of 11. new root = 18.347856\n",
      "iteration of 12. new root = 15.726735\n",
      "iteration of 13. new root = 13.480062\n",
      "iteration of 14. new root = 11.554347\n",
      "iteration of 15. new root = 9.903746\n",
      "iteration of 16. new root = 8.488975\n",
      "iteration of 17. new root = 7.276392\n",
      "iteration of 18. new root = 6.237228\n",
      "iteration of 19. new root = 5.347004\n",
      "iteration of 20. new root = 4.585184\n",
      "iteration of 21. new root = 3.935282\n",
      "iteration of 22. new root = 3.38592\n",
      "iteration of 23. new root = 2.93382\n",
      "iteration of 24. new root = 2.589378\n",
      "iteration of 25. new root = 2.377449\n",
      "iteration of 26. new root = 2.301515\n",
      "iteration of 27. new root = 2.293131\n",
      "iteration of 28. new root = 2.293038\n",
      "the root of the equation is : 2.293037997880552\n"
     ]
    }
   ],
   "source": [
    "def newtRhapson(x, e, count = 0, max = 30):\n",
    "\n",
    "    if(np.abs(f(x)) < e):\n",
    "        print(f\"the root of the equation is : {x}\")\n",
    "        return\n",
    "    \n",
    "    if(count > max):\n",
    "        print(\"error, over max limit of iteration\")\n",
    "        print(f\"last root = {x}\")\n",
    "        return\n",
    "    \n",
    "    xNew = x - (f(x) / g(x))\n",
    "    count += 1\n",
    "    print(f\"iteration of {count}. new root = {round(xNew, 6)}\")\n",
    "\n",
    "    newtRhapson(xNew, e, count, max)\n",
    "\n",
    "newtRhapson(100, 0.022)"
   ]
  },
  {
   "cell_type": "markdown",
   "metadata": {},
   "source": [
    "bisection"
   ]
  },
  {
   "cell_type": "code",
   "execution_count": 67,
   "metadata": {},
   "outputs": [],
   "source": [
    "def f(x):\n",
    "    return((-3)* x**5 - 23)"
   ]
  },
  {
   "cell_type": "code",
   "execution_count": 68,
   "metadata": {},
   "outputs": [
    {
     "name": "stdout",
     "output_type": "stream",
     "text": [
      "a = 7 & b = 7 not bound to root\n",
      "root of function = -1.5030517578125, with coordinates of x1 = -7 and x2 = 7\n",
      "root of function = -1.502685546875, with coordinates of x1 = -10 and x2 = 10\n",
      "root of function = -1.5029296875, with coordinates of x1 = -2 and x2 = 2\n",
      "a = 100 & b = -1 not bound to root\n"
     ]
    }
   ],
   "source": [
    "def bisect(a, b, e, x1, x2):\n",
    "\n",
    "    if(np.sign(f(a)) == np.sign(f(b))):\n",
    "        print(f\"a = {a} & b = {b} not bound to root\")\n",
    "        return\n",
    "    \n",
    "    m = (a + b) / 2\n",
    "    # print(m)\n",
    "    # print(np.abs(f(m)))\n",
    "    if(np.abs(f(m)) < e):\n",
    "        print(f\"root of function = {m}, with coordinates of x1 = {x1} and x2 = {x2}\")\n",
    "        return\n",
    "\n",
    "    if(np.sign(f(m)) == np.sign(f(a))):\n",
    "        bisect(m, b, e, x1, x2)\n",
    "\n",
    "    else:\n",
    "        bisect(a, m, e, x1, x2)\n",
    "\n",
    "bisect(7, 7, 0.022, 7, 7)\n",
    "bisect(-7, 7, 0.022, -7, 7)\n",
    "bisect(-10, 10, 0.022, -10, 10)\n",
    "bisect(-2, 2, 0.022, -2, 2)\n",
    "bisect(100, -1, 0.022, 100, -1)\n"
   ]
  },
  {
   "cell_type": "markdown",
   "metadata": {},
   "source": [
    "left & right reimann"
   ]
  },
  {
   "cell_type": "code",
   "execution_count": 69,
   "metadata": {},
   "outputs": [],
   "source": [
    "def f(x):\n",
    "    return np.cos(x)"
   ]
  },
  {
   "cell_type": "code",
   "execution_count": 70,
   "metadata": {},
   "outputs": [
    {
     "name": "stdout",
     "output_type": "stream",
     "text": [
      "0.1653469817678841\n",
      "-0.1653469817678836\n"
     ]
    }
   ],
   "source": [
    "a = 0\n",
    "b = np.pi\n",
    "\n",
    "n = 20\n",
    "\n",
    "h = (b - a) / (n - 1)\n",
    "\n",
    "x = np.linspace(a, b, n)\n",
    "\n",
    "f = f(x)\n",
    "\n",
    "leftReimann = h * sum(f[:n - 1])\n",
    "rightReimann = h * sum(f[1:n])\n",
    "print(leftReimann)\n",
    "print(rightReimann)"
   ]
  }
 ],
 "metadata": {
  "kernelspec": {
   "display_name": "Python 3.8.5 64-bit",
   "language": "python",
   "name": "python3"
  },
  "language_info": {
   "codemirror_mode": {
    "name": "ipython",
    "version": 3
   },
   "file_extension": ".py",
   "mimetype": "text/x-python",
   "name": "python",
   "nbconvert_exporter": "python",
   "pygments_lexer": "ipython3",
   "version": "3.8.5"
  },
  "orig_nbformat": 4,
  "vscode": {
   "interpreter": {
    "hash": "a1a257ce9f4481fd583d5696a682648ea02a1745d20cac5f46e1a35619b186e6"
   }
  }
 },
 "nbformat": 4,
 "nbformat_minor": 2
}
